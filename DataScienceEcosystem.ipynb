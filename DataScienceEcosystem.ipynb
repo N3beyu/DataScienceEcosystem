{
 "cells": [
  {
   "cell_type": "markdown",
   "id": "0b1734b1-58b8-4acb-a952-6fa086ac6973",
   "metadata": {},
   "source": [
    "# Data Science Tools and Ecosystem"
   ]
  },
  {
   "cell_type": "markdown",
   "id": "7dd836c4-a805-4ad4-96ff-ee4c317851ba",
   "metadata": {},
   "source": [
    "I am summerizing Data Science Tools and Ecosystems."
   ]
  },
  {
   "cell_type": "markdown",
   "id": "e500ad31-95c3-408e-ae67-68301d4bd74c",
   "metadata": {},
   "source": [
    "Some of the popular languages that Data Scientists use are:\n",
    "1. Python\n",
    "2. Java\n",
    "3. R(languague)\n"
   ]
  },
  {
   "cell_type": "markdown",
   "id": "2508b5d8-a0bc-4d7b-b29a-36666f07c5ac",
   "metadata": {},
   "source": [
    "# Some of the commonly used libraries used by Data Scientists include:\n",
    "1. Pandas\n",
    "2. NumPy\n",
    "3. SciPy\n"
   ]
  },
  {
   "cell_type": "markdown",
   "id": "886fed76-6fa0-4cc2-8cca-191282ae5da9",
   "metadata": {},
   "source": [
    "| Data Science Tools         |\n",
    "|----------------------------|\n",
    "| Jupyter Notebook           |\n",
    "| RStudio                    |\n",
    "| Apache Zeppelin            |"
   ]
  },
  {
   "cell_type": "markdown",
   "id": "ef71cb88-c9b2-46b6-8212-9b35c6324bf1",
   "metadata": {},
   "source": [
    "### Below are a few examples of evaluating arithmetic expressions in Python.\n",
    "\n",
    "Arithmetic expressions allow us to perform basic mathematical operations such as addition, subtraction, multiplication, and division. Here are some examples:\n",
    "\n",
    "- `3 + 5` adds two numbers, resulting in `8`.\n",
    "- `10 - 2` subtracts two numbers, resulting in `8`.\n",
    "- `4 * 7` multiplies two numbers, resulting in `28`.\n",
    "\n"
   ]
  },
  {
   "cell_type": "code",
   "execution_count": 24,
   "id": "84f7d49f-7b7f-44d4-9950-f894c8a8be30",
   "metadata": {},
   "outputs": [
    {
     "data": {
      "text/plain": [
       "17"
      ]
     },
     "execution_count": 24,
     "metadata": {},
     "output_type": "execute_result"
    }
   ],
   "source": [
    "# This is a simple arithmetic expression to multiply then add integers\n",
    "result = (3 * 4) + 5\n",
    "result"
   ]
  },
  {
   "cell_type": "code",
   "execution_count": 26,
   "id": "4207ad85-4ad2-43d4-b2db-3495c8a4e3dd",
   "metadata": {},
   "outputs": [
    {
     "data": {
      "text/plain": [
       "3.3333333333333335"
      ]
     },
     "execution_count": 26,
     "metadata": {},
     "output_type": "execute_result"
    }
   ],
   "source": [
    "# This will convert 200 minutes to hours by dividing by 60\n",
    "hours = 200 / 60\n",
    "hours"
   ]
  },
  {
   "cell_type": "markdown",
   "id": "309baceb-eedb-4b1c-a1f7-56883a6490b5",
   "metadata": {},
   "source": [
    "**Objectives:**\n",
    "\n",
    "- List popular languages for Data Science.\n",
    "- Describe commonly used libraries in Data Science.\n",
    "- Explain the importance of data visualization.\n",
    "- Create and evaluate arithmetic expressions in Python.\n",
    "- Convert units such as minutes to hours."
   ]
  },
  {
   "cell_type": "markdown",
   "id": "451f7da7-aa6d-41a3-b9aa-c2863998e316",
   "metadata": {},
   "source": [
    "## Author\n",
    "\n",
    "Nebeyu Tsigea"
   ]
  },
  {
   "cell_type": "code",
   "execution_count": null,
   "id": "fd0838ce-9c62-4602-9277-c7d53131a69f",
   "metadata": {},
   "outputs": [],
   "source": []
  },
  {
   "cell_type": "code",
   "execution_count": null,
   "id": "641eda4c-e209-4e4b-a341-ee0f1f53ea5e",
   "metadata": {},
   "outputs": [],
   "source": []
  }
 ],
 "metadata": {
  "kernelspec": {
   "display_name": "Python 3 (ipykernel)",
   "language": "python",
   "name": "python3"
  },
  "language_info": {
   "codemirror_mode": {
    "name": "ipython",
    "version": 3
   },
   "file_extension": ".py",
   "mimetype": "text/x-python",
   "name": "python",
   "nbconvert_exporter": "python",
   "pygments_lexer": "ipython3",
   "version": "3.12.4"
  }
 },
 "nbformat": 4,
 "nbformat_minor": 5
}
